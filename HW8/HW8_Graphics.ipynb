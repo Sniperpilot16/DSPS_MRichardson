{
  "nbformat": 4,
  "nbformat_minor": 0,
  "metadata": {
    "colab": {
      "name": "HW8_Graphics",
      "provenance": [],
      "collapsed_sections": [
        "S2ydw4f3F8vY",
        "YzIwxkXsDmE3",
        "4dXb4JiZD1L6"
      ],
      "include_colab_link": true
    },
    "kernelspec": {
      "name": "python3",
      "display_name": "Python 3"
    }
  },
  "cells": [
    {
      "cell_type": "markdown",
      "metadata": {
        "id": "view-in-github",
        "colab_type": "text"
      },
      "source": [
        "<a href=\"https://colab.research.google.com/github/Sniperpilot16/DSPS_MRichardson/blob/master/HW8/HW8_Graphics.ipynb\" target=\"_parent\"><img src=\"https://colab.research.google.com/assets/colab-badge.svg\" alt=\"Open In Colab\"/></a>"
      ]
    },
    {
      "cell_type": "markdown",
      "metadata": {
        "id": "H7ps12xwwcOu",
        "colab_type": "text"
      },
      "source": [
        "https://data.delaware.gov/Government-and-Finance/Revenue-by-Fiscal-Year-and-Fund/p8jh-4xxn\n",
        "\n",
        "Revenue by the Fiscal Year and Fund for Delaware"
      ]
    },
    {
      "cell_type": "code",
      "metadata": {
        "id": "ZaBYnPA8Ox39",
        "colab_type": "code",
        "colab": {
          "base_uri": "https://localhost:8080/",
          "height": 123
        },
        "outputId": "eb214bf7-7324-479d-ddc7-fa17c19da8ea"
      },
      "source": [
        "from google.colab import drive\n",
        "drive.mount('/content/drive')"
      ],
      "execution_count": 1,
      "outputs": [
        {
          "output_type": "stream",
          "text": [
            "Go to this URL in a browser: https://accounts.google.com/o/oauth2/auth?client_id=947318989803-6bn6qk8qdgf4n4g3pfee6491hc0brc4i.apps.googleusercontent.com&redirect_uri=urn%3Aietf%3Awg%3Aoauth%3A2.0%3Aoob&scope=email%20https%3A%2F%2Fwww.googleapis.com%2Fauth%2Fdocs.test%20https%3A%2F%2Fwww.googleapis.com%2Fauth%2Fdrive%20https%3A%2F%2Fwww.googleapis.com%2Fauth%2Fdrive.photos.readonly%20https%3A%2F%2Fwww.googleapis.com%2Fauth%2Fpeopleapi.readonly&response_type=code\n",
            "\n",
            "Enter your authorization code:\n",
            "··········\n",
            "Mounted at /content/drive\n"
          ],
          "name": "stdout"
        }
      ]
    },
    {
      "cell_type": "code",
      "metadata": {
        "id": "fVJJLgQVusNs",
        "colab_type": "code",
        "colab": {}
      },
      "source": [
        "import pandas as pd\n",
        "import matplotlib.pyplot as plt\n",
        "import numpy as np\n"
      ],
      "execution_count": 0,
      "outputs": []
    },
    {
      "cell_type": "markdown",
      "metadata": {
        "id": "S2ydw4f3F8vY",
        "colab_type": "text"
      },
      "source": [
        "# Data Wrangling"
      ]
    },
    {
      "cell_type": "code",
      "metadata": {
        "id": "fxuZzLqHucf-",
        "colab_type": "code",
        "colab": {
          "base_uri": "https://localhost:8080/",
          "height": 34
        },
        "outputId": "692d6365-ff51-42d0-a20b-9c9feefcdff0"
      },
      "source": [
        "ls"
      ],
      "execution_count": 2,
      "outputs": [
        {
          "output_type": "stream",
          "text": [
            "\u001b[0m\u001b[01;34mdrive\u001b[0m/  \u001b[01;34msample_data\u001b[0m/\n"
          ],
          "name": "stdout"
        }
      ]
    },
    {
      "cell_type": "code",
      "metadata": {
        "id": "IY0FpESFujPx",
        "colab_type": "code",
        "colab": {
          "base_uri": "https://localhost:8080/",
          "height": 34
        },
        "outputId": "487ab4d3-49ee-4cd3-8b0c-b87393252183"
      },
      "source": [
        "cd drive"
      ],
      "execution_count": 3,
      "outputs": [
        {
          "output_type": "stream",
          "text": [
            "/content/drive\n"
          ],
          "name": "stdout"
        }
      ]
    },
    {
      "cell_type": "code",
      "metadata": {
        "id": "oAD1pu0xukwq",
        "colab_type": "code",
        "colab": {
          "base_uri": "https://localhost:8080/",
          "height": 34
        },
        "outputId": "6ac9326e-15fd-4d8d-b475-e2cb16bd769d"
      },
      "source": [
        "ls"
      ],
      "execution_count": 4,
      "outputs": [
        {
          "output_type": "stream",
          "text": [
            "\u001b[0m\u001b[01;34m'My Drive'\u001b[0m/\n"
          ],
          "name": "stdout"
        }
      ]
    },
    {
      "cell_type": "code",
      "metadata": {
        "id": "nprZPvFNulOQ",
        "colab_type": "code",
        "colab": {
          "base_uri": "https://localhost:8080/",
          "height": 34
        },
        "outputId": "279d2c54-831d-4b46-8678-d6fe67365f6e"
      },
      "source": [
        "cd My Drive"
      ],
      "execution_count": 5,
      "outputs": [
        {
          "output_type": "stream",
          "text": [
            "/content/drive/My Drive\n"
          ],
          "name": "stdout"
        }
      ]
    },
    {
      "cell_type": "code",
      "metadata": {
        "id": "-LTfMHypum9n",
        "colab_type": "code",
        "colab": {
          "base_uri": "https://localhost:8080/",
          "height": 433
        },
        "outputId": "d17f2e8e-28e7-4eba-e60a-14c1623399f8"
      },
      "source": [
        "ls"
      ],
      "execution_count": 6,
      "outputs": [
        {
          "output_type": "stream",
          "text": [
            "'2013 NYLT Michael Evaluation.pdf'         'Leadership Essays.gdoc'\n",
            " Application.gdoc                          'Lyric ideas.gdoc'\n",
            "'A video Goes with this one.mp3'           'Merit Badges.gdoc'\n",
            "'Brandan And Josh Combine.m4a'             'MR. K college essay questions.gdoc'\n",
            "'Brother Leader Educator Bylaws.gdoc'      'My Life story (Thus far).gdoc'\n",
            "'Choir leadership essay.gdoc'              \u001b[0m\u001b[01;34m'New Folder'\u001b[0m/\n",
            " \u001b[01;34mCISC106\u001b[0m/                                  'Notes from DSPS.gdoc'\n",
            "\u001b[01;34m'Colab Notebooks'\u001b[0m/                         'Physics Buoyancy graph.gsheet'\n",
            " \u001b[01;34mCollege\u001b[0m/                                   \u001b[01;34mPoetry\u001b[0m/\n",
            "'College Essay ideas.gdoc'                 'Post Moment Lyrics.gdoc'\n",
            "'Cool Audition Material.gdoc'              'Renaissance Physics.gdoc'\n",
            "'Demetrius first person .gdoc'             \u001b[01;34m'Senior Assassins'\u001b[0m/\n",
            " \u001b[01;34mdsps\u001b[0m/                                     'Songs We Need to Cover.gdoc'\n",
            "'DSPS Quizzes.gdoc'                        'Storm story.gdoc'\n",
            "\u001b[01;34m'Eagle scout'\u001b[0m/                              \u001b[01;34mtest_dir\u001b[0m/\n",
            " editedVideo_6-23-2019_95246_PM_Trim2.mp4  'The Experience Pt Brendan.m4a'\n",
            " editedVideo_6-23-2019_95246_PM_Trim.mp4   'Time Story.gdoc'\n",
            "'Extra credit ideas for DSPS.gdoc'          top2018.csv\n",
            "'First Album Set List.gdoc'                 top2018.gsheet\n",
            "'Francisco Pizaro.gdoc'                    'Untitled document (1).gdoc'\n",
            "'Good Turn for America Application.gdoc'   'Untitled document (2).gdoc'\n",
            "\"Grandma's Funeral Note.gdoc\"              'Untitled document.gdoc'\n",
            " image1.JPG                                 URL.gdoc\n",
            "'In Class 1072019.ipynb'                   'Wuthering Heights Turnitin.gdoc'\n"
          ],
          "name": "stdout"
        }
      ]
    },
    {
      "cell_type": "code",
      "metadata": {
        "id": "uPs4Y7WTuncF",
        "colab_type": "code",
        "colab": {
          "base_uri": "https://localhost:8080/",
          "height": 34
        },
        "outputId": "079b57ca-4060-493d-ec7c-255f15abe540"
      },
      "source": [
        "cd dsps"
      ],
      "execution_count": 7,
      "outputs": [
        {
          "output_type": "stream",
          "text": [
            "/content/drive/My Drive/dsps\n"
          ],
          "name": "stdout"
        }
      ]
    },
    {
      "cell_type": "code",
      "metadata": {
        "id": "IgcExnxwuqBb",
        "colab_type": "code",
        "colab": {
          "base_uri": "https://localhost:8080/",
          "height": 51
        },
        "outputId": "9c6ac46a-6283-409a-c575-59eec6061770"
      },
      "source": [
        "ls"
      ],
      "execution_count": 8,
      "outputs": [
        {
          "output_type": "stream",
          "text": [
            "\u001b[0m\u001b[01;34mdata\u001b[0m/          jla_likelihood_v6.gz    pluto_18v2_1.csv   PlutoReadme18v2.1.pdf\n",
            "fig1datag.txt  nyc_pluto_19v1_csv.zip  PLUTODD18v2.1.pdf  Revenue_delaware.csv\n"
          ],
          "name": "stdout"
        }
      ]
    },
    {
      "cell_type": "code",
      "metadata": {
        "id": "M43cvbSXuqmM",
        "colab_type": "code",
        "colab": {}
      },
      "source": [
        "revenue = pd.read_csv('Revenue_delaware.csv')"
      ],
      "execution_count": 0,
      "outputs": []
    },
    {
      "cell_type": "code",
      "metadata": {
        "id": "7NgO0y4Gu3gp",
        "colab_type": "code",
        "colab": {
          "base_uri": "https://localhost:8080/",
          "height": 816
        },
        "outputId": "9e11201c-aa0a-4f4d-8f7a-d200254767d1"
      },
      "source": [
        "revenue"
      ],
      "execution_count": 17,
      "outputs": [
        {
          "output_type": "execute_result",
          "data": {
            "text/html": [
              "<div>\n",
              "<style scoped>\n",
              "    .dataframe tbody tr th:only-of-type {\n",
              "        vertical-align: middle;\n",
              "    }\n",
              "\n",
              "    .dataframe tbody tr th {\n",
              "        vertical-align: top;\n",
              "    }\n",
              "\n",
              "    .dataframe thead th {\n",
              "        text-align: right;\n",
              "    }\n",
              "</style>\n",
              "<table border=\"1\" class=\"dataframe\">\n",
              "  <thead>\n",
              "    <tr style=\"text-align: right;\">\n",
              "      <th></th>\n",
              "      <th>FISCAL YEAR</th>\n",
              "      <th>DEPARTMENT</th>\n",
              "      <th>DIVISION</th>\n",
              "      <th>CATEGORY</th>\n",
              "      <th>GENERAL FUND</th>\n",
              "      <th>FEDERAL FUND</th>\n",
              "      <th>CAPITAL FUND</th>\n",
              "      <th>SPECIAL FUND</th>\n",
              "    </tr>\n",
              "  </thead>\n",
              "  <tbody>\n",
              "    <tr>\n",
              "      <th>0</th>\n",
              "      <td>2015</td>\n",
              "      <td>ACADEMIA ANTONIA ALONSO</td>\n",
              "      <td>ACADEMIA ANTONIA ALONSO</td>\n",
              "      <td>DONATION/CONTRIBUTIONS</td>\n",
              "      <td>0.0</td>\n",
              "      <td>0.00</td>\n",
              "      <td>0.0</td>\n",
              "      <td>105129.67</td>\n",
              "    </tr>\n",
              "    <tr>\n",
              "      <th>1</th>\n",
              "      <td>2015</td>\n",
              "      <td>ACADEMIA ANTONIA ALONSO</td>\n",
              "      <td>ACADEMIA ANTONIA ALONSO</td>\n",
              "      <td>FEDERAL REIMBURSEMENT</td>\n",
              "      <td>0.0</td>\n",
              "      <td>63305.93</td>\n",
              "      <td>0.0</td>\n",
              "      <td>0.00</td>\n",
              "    </tr>\n",
              "    <tr>\n",
              "      <th>2</th>\n",
              "      <td>2015</td>\n",
              "      <td>ACADEMIA ANTONIA ALONSO</td>\n",
              "      <td>ACADEMIA ANTONIA ALONSO</td>\n",
              "      <td>INTEREST ON DEPOSITS</td>\n",
              "      <td>0.0</td>\n",
              "      <td>0.00</td>\n",
              "      <td>0.0</td>\n",
              "      <td>27329.59</td>\n",
              "    </tr>\n",
              "    <tr>\n",
              "      <th>3</th>\n",
              "      <td>2015</td>\n",
              "      <td>ACADEMIA ANTONIA ALONSO</td>\n",
              "      <td>ACADEMIA ANTONIA ALONSO</td>\n",
              "      <td>MISCELLANEOUS RECEIPTS</td>\n",
              "      <td>0.0</td>\n",
              "      <td>0.00</td>\n",
              "      <td>0.0</td>\n",
              "      <td>38372.24</td>\n",
              "    </tr>\n",
              "    <tr>\n",
              "      <th>4</th>\n",
              "      <td>2015</td>\n",
              "      <td>ACADEMIA ANTONIA ALONSO</td>\n",
              "      <td>ACADEMIA ANTONIA ALONSO</td>\n",
              "      <td>MISCELLANEOUS: OTHER</td>\n",
              "      <td>0.0</td>\n",
              "      <td>0.00</td>\n",
              "      <td>0.0</td>\n",
              "      <td>95504.71</td>\n",
              "    </tr>\n",
              "    <tr>\n",
              "      <th>...</th>\n",
              "      <td>...</td>\n",
              "      <td>...</td>\n",
              "      <td>...</td>\n",
              "      <td>...</td>\n",
              "      <td>...</td>\n",
              "      <td>...</td>\n",
              "      <td>...</td>\n",
              "      <td>...</td>\n",
              "    </tr>\n",
              "    <tr>\n",
              "      <th>12137</th>\n",
              "      <td>2020</td>\n",
              "      <td>DEPT OF NATRL RES AND ENV CONT</td>\n",
              "      <td>FISH AND WILDLIFE</td>\n",
              "      <td>WOOD DUCK BOX SALES</td>\n",
              "      <td>0.0</td>\n",
              "      <td>0.00</td>\n",
              "      <td>0.0</td>\n",
              "      <td>60.00</td>\n",
              "    </tr>\n",
              "    <tr>\n",
              "      <th>12138</th>\n",
              "      <td>2020</td>\n",
              "      <td>DEPT OF AGRICULTURE</td>\n",
              "      <td>PESTICIDES</td>\n",
              "      <td>WORKER</td>\n",
              "      <td>0.0</td>\n",
              "      <td>0.00</td>\n",
              "      <td>0.0</td>\n",
              "      <td>2125.00</td>\n",
              "    </tr>\n",
              "    <tr>\n",
              "      <th>12139</th>\n",
              "      <td>2020</td>\n",
              "      <td>EXECUTIVE</td>\n",
              "      <td>FACILITIES MANAGEMENT</td>\n",
              "      <td>WORKER</td>\n",
              "      <td>2720.0</td>\n",
              "      <td>0.00</td>\n",
              "      <td>0.0</td>\n",
              "      <td>0.00</td>\n",
              "    </tr>\n",
              "    <tr>\n",
              "      <th>12140</th>\n",
              "      <td>2020</td>\n",
              "      <td>DEPT OF NATRL RES AND ENV CONT</td>\n",
              "      <td>FISH AND WILDLIFE</td>\n",
              "      <td>WORKSHOPS</td>\n",
              "      <td>0.0</td>\n",
              "      <td>0.00</td>\n",
              "      <td>0.0</td>\n",
              "      <td>8460.00</td>\n",
              "    </tr>\n",
              "    <tr>\n",
              "      <th>12141</th>\n",
              "      <td>2020</td>\n",
              "      <td>DEPT OF NATRL RES AND ENV CONT</td>\n",
              "      <td>PARKS AND RECREATION</td>\n",
              "      <td>WORKSHOPS</td>\n",
              "      <td>0.0</td>\n",
              "      <td>0.00</td>\n",
              "      <td>0.0</td>\n",
              "      <td>1000.00</td>\n",
              "    </tr>\n",
              "  </tbody>\n",
              "</table>\n",
              "<p>12142 rows × 8 columns</p>\n",
              "</div>"
            ],
            "text/plain": [
              "       FISCAL YEAR                      DEPARTMENT  ... CAPITAL FUND SPECIAL FUND\n",
              "0             2015         ACADEMIA ANTONIA ALONSO  ...          0.0    105129.67\n",
              "1             2015         ACADEMIA ANTONIA ALONSO  ...          0.0         0.00\n",
              "2             2015         ACADEMIA ANTONIA ALONSO  ...          0.0     27329.59\n",
              "3             2015         ACADEMIA ANTONIA ALONSO  ...          0.0     38372.24\n",
              "4             2015         ACADEMIA ANTONIA ALONSO  ...          0.0     95504.71\n",
              "...            ...                             ...  ...          ...          ...\n",
              "12137         2020  DEPT OF NATRL RES AND ENV CONT  ...          0.0        60.00\n",
              "12138         2020             DEPT OF AGRICULTURE  ...          0.0      2125.00\n",
              "12139         2020                       EXECUTIVE  ...          0.0         0.00\n",
              "12140         2020  DEPT OF NATRL RES AND ENV CONT  ...          0.0      8460.00\n",
              "12141         2020  DEPT OF NATRL RES AND ENV CONT  ...          0.0      1000.00\n",
              "\n",
              "[12142 rows x 8 columns]"
            ]
          },
          "metadata": {
            "tags": []
          },
          "execution_count": 17
        }
      ]
    },
    {
      "cell_type": "code",
      "metadata": {
        "id": "Tvr9HiOGvxWU",
        "colab_type": "code",
        "colab": {}
      },
      "source": [
        "revenue_filtered = revenue[['FISCAL YEAR', 'GENERAL FUND', 'FEDERAL FUND', 'CAPITAL FUND', 'SPECIAL FUND']]"
      ],
      "execution_count": 0,
      "outputs": []
    },
    {
      "cell_type": "code",
      "metadata": {
        "id": "FaDuqjniu4Py",
        "colab_type": "code",
        "colab": {
          "base_uri": "https://localhost:8080/",
          "height": 34
        },
        "outputId": "4cbd3fb5-370f-4345-a8a8-31403b31ce25"
      },
      "source": [
        "revenue2015 = revenue_filtered.loc[revenue_filtered['FISCAL YEAR'] == 2015]\n",
        "revenue2015.shape"
      ],
      "execution_count": 20,
      "outputs": [
        {
          "output_type": "execute_result",
          "data": {
            "text/plain": [
              "(2110, 5)"
            ]
          },
          "metadata": {
            "tags": []
          },
          "execution_count": 20
        }
      ]
    },
    {
      "cell_type": "code",
      "metadata": {
        "id": "_uSDqy9ove3c",
        "colab_type": "code",
        "colab": {}
      },
      "source": [
        "revenue2016 = revenue_filtered.loc[revenue_filtered['FISCAL YEAR'] == 2016]\n",
        "revenue2017 = revenue_filtered.loc[revenue_filtered['FISCAL YEAR'] == 2017]\n",
        "revenue2018 = revenue_filtered.loc[revenue_filtered['FISCAL YEAR'] == 2018]\n",
        "revenue2019 = revenue_filtered.loc[revenue_filtered['FISCAL YEAR'] == 2019]"
      ],
      "execution_count": 0,
      "outputs": []
    },
    {
      "cell_type": "markdown",
      "metadata": {
        "id": "YzIwxkXsDmE3",
        "colab_type": "text"
      },
      "source": [
        "# Total General Fund Each Year"
      ]
    },
    {
      "cell_type": "code",
      "metadata": {
        "id": "kGaR5OCSvtRn",
        "colab_type": "code",
        "colab": {}
      },
      "source": [
        "revenue_generalfund = revenue_filtered[['FISCAL YEAR', 'GENERAL FUND']]"
      ],
      "execution_count": 0,
      "outputs": []
    },
    {
      "cell_type": "code",
      "metadata": {
        "id": "j3puEIirxbfH",
        "colab_type": "code",
        "colab": {
          "base_uri": "https://localhost:8080/",
          "height": 34
        },
        "outputId": "97874e35-b52d-4ed5-c175-a2474bac3bd2"
      },
      "source": [
        "generalfund2015 = revenue_generalfund.loc[revenue_generalfund['FISCAL YEAR'] == 2015]\n",
        "generalfund2015.shape"
      ],
      "execution_count": 23,
      "outputs": [
        {
          "output_type": "execute_result",
          "data": {
            "text/plain": [
              "(2110, 2)"
            ]
          },
          "metadata": {
            "tags": []
          },
          "execution_count": 23
        }
      ]
    },
    {
      "cell_type": "code",
      "metadata": {
        "id": "TGV3rN-JxpuN",
        "colab_type": "code",
        "colab": {}
      },
      "source": [
        "generalfund2016 = revenue_generalfund.loc[revenue_generalfund['FISCAL YEAR'] == 2016]\n",
        "generalfund2017 = revenue_generalfund.loc[revenue_generalfund['FISCAL YEAR'] == 2017]\n",
        "generalfund2018 = revenue_generalfund.loc[revenue_generalfund['FISCAL YEAR'] == 2018]\n",
        "generalfund2019 = revenue_generalfund.loc[revenue_generalfund['FISCAL YEAR'] == 2019]"
      ],
      "execution_count": 0,
      "outputs": []
    },
    {
      "cell_type": "code",
      "metadata": {
        "id": "joTj0_LwxyaM",
        "colab_type": "code",
        "colab": {
          "base_uri": "https://localhost:8080/",
          "height": 34
        },
        "outputId": "a2e3bdc7-64d8-4d18-9360-deff584cac11"
      },
      "source": [
        "generalsum2015 = generalfund2015['GENERAL FUND'].sum()\n",
        "generalsum2015"
      ],
      "execution_count": 26,
      "outputs": [
        {
          "output_type": "execute_result",
          "data": {
            "text/plain": [
              "3955127274.0"
            ]
          },
          "metadata": {
            "tags": []
          },
          "execution_count": 26
        }
      ]
    },
    {
      "cell_type": "code",
      "metadata": {
        "id": "MsUdMMpKyc-u",
        "colab_type": "code",
        "colab": {}
      },
      "source": [
        "generalsum2016 = generalfund2016['GENERAL FUND'].sum()\n",
        "generalsum2017 = generalfund2017['GENERAL FUND'].sum()\n",
        "generalsum2018 = generalfund2018['GENERAL FUND'].sum()\n",
        "generalsum2019 = generalfund2019['GENERAL FUND'].sum()"
      ],
      "execution_count": 0,
      "outputs": []
    },
    {
      "cell_type": "code",
      "metadata": {
        "id": "JjlZ4BTHzdJG",
        "colab_type": "code",
        "colab": {}
      },
      "source": [
        "generalsumtotal = [generalsum2015, generalsum2016, generalsum2017, generalsum2018, generalsum2019]"
      ],
      "execution_count": 0,
      "outputs": []
    },
    {
      "cell_type": "code",
      "metadata": {
        "id": "v3eKMeYy1Py8",
        "colab_type": "code",
        "colab": {
          "base_uri": "https://localhost:8080/",
          "height": 103
        },
        "outputId": "5f8c52cd-e3e5-45e6-b541-d05391b041a7"
      },
      "source": [
        "generalsumtotal"
      ],
      "execution_count": 35,
      "outputs": [
        {
          "output_type": "execute_result",
          "data": {
            "text/plain": [
              "[3955127274.0,\n",
              " 3944500637.5300007,\n",
              " 4013093878.7799997,\n",
              " 4392976899.81,\n",
              " 4593352298.320001]"
            ]
          },
          "metadata": {
            "tags": []
          },
          "execution_count": 35
        }
      ]
    },
    {
      "cell_type": "code",
      "metadata": {
        "id": "KjRvQ4yj1K_u",
        "colab_type": "code",
        "colab": {}
      },
      "source": [
        "years = [2015, 2016, 2017, 2018, 2019]"
      ],
      "execution_count": 0,
      "outputs": []
    },
    {
      "cell_type": "code",
      "metadata": {
        "id": "lPozlygL2a8K",
        "colab_type": "code",
        "colab": {}
      },
      "source": [
        "combined_totals =[[3955127274.0, 2015], [3944500637.5300007, 2016], [4013093878.7799997, 2017], [4392976899.81, 2018], [4593352298.320001, 2019]]"
      ],
      "execution_count": 0,
      "outputs": []
    },
    {
      "cell_type": "code",
      "metadata": {
        "id": "csrLDEnkActY",
        "colab_type": "code",
        "colab": {
          "base_uri": "https://localhost:8080/",
          "height": 202
        },
        "outputId": "86f73f87-b615-4a2a-a315-a9e560d6bd4c"
      },
      "source": [
        "combined_totals_general = pd.DataFrame(combined_totals, columns = ['Revenue', 'Year'])\n",
        "combined_totals_general"
      ],
      "execution_count": 104,
      "outputs": [
        {
          "output_type": "execute_result",
          "data": {
            "text/html": [
              "<div>\n",
              "<style scoped>\n",
              "    .dataframe tbody tr th:only-of-type {\n",
              "        vertical-align: middle;\n",
              "    }\n",
              "\n",
              "    .dataframe tbody tr th {\n",
              "        vertical-align: top;\n",
              "    }\n",
              "\n",
              "    .dataframe thead th {\n",
              "        text-align: right;\n",
              "    }\n",
              "</style>\n",
              "<table border=\"1\" class=\"dataframe\">\n",
              "  <thead>\n",
              "    <tr style=\"text-align: right;\">\n",
              "      <th></th>\n",
              "      <th>Revenue</th>\n",
              "      <th>Year</th>\n",
              "    </tr>\n",
              "  </thead>\n",
              "  <tbody>\n",
              "    <tr>\n",
              "      <th>0</th>\n",
              "      <td>3.955127e+09</td>\n",
              "      <td>2015</td>\n",
              "    </tr>\n",
              "    <tr>\n",
              "      <th>1</th>\n",
              "      <td>3.944501e+09</td>\n",
              "      <td>2016</td>\n",
              "    </tr>\n",
              "    <tr>\n",
              "      <th>2</th>\n",
              "      <td>4.013094e+09</td>\n",
              "      <td>2017</td>\n",
              "    </tr>\n",
              "    <tr>\n",
              "      <th>3</th>\n",
              "      <td>4.392977e+09</td>\n",
              "      <td>2018</td>\n",
              "    </tr>\n",
              "    <tr>\n",
              "      <th>4</th>\n",
              "      <td>4.593352e+09</td>\n",
              "      <td>2019</td>\n",
              "    </tr>\n",
              "  </tbody>\n",
              "</table>\n",
              "</div>"
            ],
            "text/plain": [
              "        Revenue  Year\n",
              "0  3.955127e+09  2015\n",
              "1  3.944501e+09  2016\n",
              "2  4.013094e+09  2017\n",
              "3  4.392977e+09  2018\n",
              "4  4.593352e+09  2019"
            ]
          },
          "metadata": {
            "tags": []
          },
          "execution_count": 104
        }
      ]
    },
    {
      "cell_type": "markdown",
      "metadata": {
        "id": "4dXb4JiZD1L6",
        "colab_type": "text"
      },
      "source": [
        "# Total Federal Fund"
      ]
    },
    {
      "cell_type": "code",
      "metadata": {
        "id": "vwZr8M9kEG-Y",
        "colab_type": "code",
        "colab": {}
      },
      "source": [
        "revenue_federalfund = revenue_filtered[['FISCAL YEAR', 'FEDERAL FUND']]"
      ],
      "execution_count": 0,
      "outputs": []
    },
    {
      "cell_type": "code",
      "metadata": {
        "id": "YhBGTO08ETzo",
        "colab_type": "code",
        "colab": {}
      },
      "source": [
        "federalfund2015 = revenue_federalfund.loc[revenue_federalfund['FISCAL YEAR'] == 2015]\n",
        "federalfund2016 = revenue_federalfund.loc[revenue_federalfund['FISCAL YEAR'] == 2016]\n",
        "federalfund2017 = revenue_federalfund.loc[revenue_federalfund['FISCAL YEAR'] == 2017]\n",
        "federalfund2018 = revenue_federalfund.loc[revenue_federalfund['FISCAL YEAR'] == 2018]\n",
        "federalfund2019 = revenue_federalfund.loc[revenue_federalfund['FISCAL YEAR'] == 2019]"
      ],
      "execution_count": 0,
      "outputs": []
    },
    {
      "cell_type": "code",
      "metadata": {
        "id": "mfPARhZ4EsQy",
        "colab_type": "code",
        "colab": {}
      },
      "source": [
        "federalsum2015 = federalfund2015['FEDERAL FUND'].sum()\n",
        "federalsum2016 = federalfund2016['FEDERAL FUND'].sum()\n",
        "federalsum2017 = federalfund2017['FEDERAL FUND'].sum()\n",
        "federalsum2018 = federalfund2018['FEDERAL FUND'].sum()\n",
        "federalsum2019 = federalfund2019['FEDERAL FUND'].sum()"
      ],
      "execution_count": 0,
      "outputs": []
    },
    {
      "cell_type": "code",
      "metadata": {
        "id": "Tfiv5IzLFF6u",
        "colab_type": "code",
        "colab": {}
      },
      "source": [
        "federalsumtotal = [federalsum2015, federalsum2016, federalsum2017, federalsum2018, federalsum2019]"
      ],
      "execution_count": 0,
      "outputs": []
    },
    {
      "cell_type": "code",
      "metadata": {
        "id": "6HrwMzslFcDo",
        "colab_type": "code",
        "colab": {
          "base_uri": "https://localhost:8080/",
          "height": 103
        },
        "outputId": "91836b82-dd5b-4da7-ced8-17ea1d0dd6d7"
      },
      "source": [
        "federalsumtotal"
      ],
      "execution_count": 89,
      "outputs": [
        {
          "output_type": "execute_result",
          "data": {
            "text/plain": [
              "[1837128838.73,\n",
              " 1929123309.3400002,\n",
              " 1965883163.7099998,\n",
              " 2143752704.0000002,\n",
              " 2120883716.9099996]"
            ]
          },
          "metadata": {
            "tags": []
          },
          "execution_count": 89
        }
      ]
    },
    {
      "cell_type": "code",
      "metadata": {
        "id": "ZsoWRqd4FgEi",
        "colab_type": "code",
        "colab": {}
      },
      "source": [
        "combined_totals_federal =[[1837128838.73, 2015], [1929123309.3400002, 2016], [1965883163.7099998, 2017], [2143752704.0000002, 2018], [2120883716.9099996, 2019]]"
      ],
      "execution_count": 0,
      "outputs": []
    },
    {
      "cell_type": "code",
      "metadata": {
        "id": "eJwlQYteF2A2",
        "colab_type": "code",
        "colab": {
          "base_uri": "https://localhost:8080/",
          "height": 202
        },
        "outputId": "aa271f82-580e-4b0e-d5d3-607dae2eac9c"
      },
      "source": [
        "combined_totals_federal = pd.DataFrame(combined_totals_federal, columns = ['Revenue', 'Year'])\n",
        "combined_totals_federal"
      ],
      "execution_count": 91,
      "outputs": [
        {
          "output_type": "execute_result",
          "data": {
            "text/html": [
              "<div>\n",
              "<style scoped>\n",
              "    .dataframe tbody tr th:only-of-type {\n",
              "        vertical-align: middle;\n",
              "    }\n",
              "\n",
              "    .dataframe tbody tr th {\n",
              "        vertical-align: top;\n",
              "    }\n",
              "\n",
              "    .dataframe thead th {\n",
              "        text-align: right;\n",
              "    }\n",
              "</style>\n",
              "<table border=\"1\" class=\"dataframe\">\n",
              "  <thead>\n",
              "    <tr style=\"text-align: right;\">\n",
              "      <th></th>\n",
              "      <th>Revenue</th>\n",
              "      <th>Year</th>\n",
              "    </tr>\n",
              "  </thead>\n",
              "  <tbody>\n",
              "    <tr>\n",
              "      <th>0</th>\n",
              "      <td>1.837129e+09</td>\n",
              "      <td>2015</td>\n",
              "    </tr>\n",
              "    <tr>\n",
              "      <th>1</th>\n",
              "      <td>1.929123e+09</td>\n",
              "      <td>2016</td>\n",
              "    </tr>\n",
              "    <tr>\n",
              "      <th>2</th>\n",
              "      <td>1.965883e+09</td>\n",
              "      <td>2017</td>\n",
              "    </tr>\n",
              "    <tr>\n",
              "      <th>3</th>\n",
              "      <td>2.143753e+09</td>\n",
              "      <td>2018</td>\n",
              "    </tr>\n",
              "    <tr>\n",
              "      <th>4</th>\n",
              "      <td>2.120884e+09</td>\n",
              "      <td>2019</td>\n",
              "    </tr>\n",
              "  </tbody>\n",
              "</table>\n",
              "</div>"
            ],
            "text/plain": [
              "        Revenue  Year\n",
              "0  1.837129e+09  2015\n",
              "1  1.929123e+09  2016\n",
              "2  1.965883e+09  2017\n",
              "3  2.143753e+09  2018\n",
              "4  2.120884e+09  2019"
            ]
          },
          "metadata": {
            "tags": []
          },
          "execution_count": 91
        }
      ]
    },
    {
      "cell_type": "markdown",
      "metadata": {
        "id": "OdYbEK2LD5Xo",
        "colab_type": "text"
      },
      "source": [
        "# Total Capital Fund"
      ]
    },
    {
      "cell_type": "code",
      "metadata": {
        "id": "s9OvibvhEJ9r",
        "colab_type": "code",
        "colab": {}
      },
      "source": [
        "revenue_capitalfund = revenue_filtered[['FISCAL YEAR', 'CAPITAL FUND']]"
      ],
      "execution_count": 0,
      "outputs": []
    },
    {
      "cell_type": "code",
      "metadata": {
        "id": "iW7vriIhGCpK",
        "colab_type": "code",
        "colab": {}
      },
      "source": [
        "capitalfund2015 = revenue_capitalfund.loc[revenue_capitalfund['FISCAL YEAR'] == 2015]\n",
        "capitalfund2016 = revenue_capitalfund.loc[revenue_capitalfund['FISCAL YEAR'] == 2016]\n",
        "capitalfund2017 = revenue_capitalfund.loc[revenue_capitalfund['FISCAL YEAR'] == 2017]\n",
        "capitalfund2018 = revenue_capitalfund.loc[revenue_capitalfund['FISCAL YEAR'] == 2018]\n",
        "capitalfund2019 = revenue_capitalfund.loc[revenue_capitalfund['FISCAL YEAR'] == 2019]"
      ],
      "execution_count": 0,
      "outputs": []
    },
    {
      "cell_type": "code",
      "metadata": {
        "id": "iILaiWn5GaeI",
        "colab_type": "code",
        "colab": {}
      },
      "source": [
        "capitalsum2015 = capitalfund2015['CAPITAL FUND'].sum()\n",
        "capitalsum2016 = capitalfund2016['CAPITAL FUND'].sum()\n",
        "capitalsum2017 = capitalfund2017['CAPITAL FUND'].sum()\n",
        "capitalsum2018 = capitalfund2018['CAPITAL FUND'].sum()\n",
        "capitalsum2019 = capitalfund2019['CAPITAL FUND'].sum()"
      ],
      "execution_count": 0,
      "outputs": []
    },
    {
      "cell_type": "code",
      "metadata": {
        "id": "EDTzuWtkGoap",
        "colab_type": "code",
        "colab": {}
      },
      "source": [
        "capitalsumtotal = [capitalsum2015, capitalsum2016, capitalsum2017, capitalsum2018, capitalsum2019]"
      ],
      "execution_count": 0,
      "outputs": []
    },
    {
      "cell_type": "code",
      "metadata": {
        "id": "UZx2H00BG0J0",
        "colab_type": "code",
        "colab": {
          "base_uri": "https://localhost:8080/",
          "height": 34
        },
        "outputId": "3e72c0cf-e0ae-4fa8-b818-84e4958f536b"
      },
      "source": [
        "capitalsumtotal"
      ],
      "execution_count": 95,
      "outputs": [
        {
          "output_type": "execute_result",
          "data": {
            "text/plain": [
              "[232829067.8, 215075917.6, 220924143.95, 336104872.0, 295747988.9]"
            ]
          },
          "metadata": {
            "tags": []
          },
          "execution_count": 95
        }
      ]
    },
    {
      "cell_type": "code",
      "metadata": {
        "id": "PFbaEMACGz7p",
        "colab_type": "code",
        "colab": {}
      },
      "source": [
        "combined_totals_capital =[[232829067.8, 2015], [215075917.6, 2016], [220924143.95, 2017], [336104872.0, 2018], [295747988.9, 2019]]"
      ],
      "execution_count": 0,
      "outputs": []
    },
    {
      "cell_type": "code",
      "metadata": {
        "id": "AOHYjN7HHFWW",
        "colab_type": "code",
        "colab": {
          "base_uri": "https://localhost:8080/",
          "height": 202
        },
        "outputId": "f98be478-a405-4430-ad0b-1b8b51b3eb67"
      },
      "source": [
        "combined_totals_capital = pd.DataFrame(combined_totals_capital, columns = ['Revenue', 'Year'])\n",
        "combined_totals_capital"
      ],
      "execution_count": 97,
      "outputs": [
        {
          "output_type": "execute_result",
          "data": {
            "text/html": [
              "<div>\n",
              "<style scoped>\n",
              "    .dataframe tbody tr th:only-of-type {\n",
              "        vertical-align: middle;\n",
              "    }\n",
              "\n",
              "    .dataframe tbody tr th {\n",
              "        vertical-align: top;\n",
              "    }\n",
              "\n",
              "    .dataframe thead th {\n",
              "        text-align: right;\n",
              "    }\n",
              "</style>\n",
              "<table border=\"1\" class=\"dataframe\">\n",
              "  <thead>\n",
              "    <tr style=\"text-align: right;\">\n",
              "      <th></th>\n",
              "      <th>Revenue</th>\n",
              "      <th>Year</th>\n",
              "    </tr>\n",
              "  </thead>\n",
              "  <tbody>\n",
              "    <tr>\n",
              "      <th>0</th>\n",
              "      <td>2.328291e+08</td>\n",
              "      <td>2015</td>\n",
              "    </tr>\n",
              "    <tr>\n",
              "      <th>1</th>\n",
              "      <td>2.150759e+08</td>\n",
              "      <td>2016</td>\n",
              "    </tr>\n",
              "    <tr>\n",
              "      <th>2</th>\n",
              "      <td>2.209241e+08</td>\n",
              "      <td>2017</td>\n",
              "    </tr>\n",
              "    <tr>\n",
              "      <th>3</th>\n",
              "      <td>3.361049e+08</td>\n",
              "      <td>2018</td>\n",
              "    </tr>\n",
              "    <tr>\n",
              "      <th>4</th>\n",
              "      <td>2.957480e+08</td>\n",
              "      <td>2019</td>\n",
              "    </tr>\n",
              "  </tbody>\n",
              "</table>\n",
              "</div>"
            ],
            "text/plain": [
              "        Revenue  Year\n",
              "0  2.328291e+08  2015\n",
              "1  2.150759e+08  2016\n",
              "2  2.209241e+08  2017\n",
              "3  3.361049e+08  2018\n",
              "4  2.957480e+08  2019"
            ]
          },
          "metadata": {
            "tags": []
          },
          "execution_count": 97
        }
      ]
    },
    {
      "cell_type": "markdown",
      "metadata": {
        "id": "ijqSAKuYEBvq",
        "colab_type": "text"
      },
      "source": [
        "# Total Special Fund"
      ]
    },
    {
      "cell_type": "code",
      "metadata": {
        "id": "Car_1yaVENWM",
        "colab_type": "code",
        "colab": {}
      },
      "source": [
        "revenue_specialfund = revenue_filtered[['FISCAL YEAR', 'SPECIAL FUND']]"
      ],
      "execution_count": 0,
      "outputs": []
    },
    {
      "cell_type": "code",
      "metadata": {
        "id": "HWTiaTlcHMhJ",
        "colab_type": "code",
        "colab": {}
      },
      "source": [
        "specialfund2015 = revenue_specialfund.loc[revenue_specialfund['FISCAL YEAR'] == 2015]\n",
        "specialfund2016 = revenue_specialfund.loc[revenue_specialfund['FISCAL YEAR'] == 2016]\n",
        "specialfund2017 = revenue_specialfund.loc[revenue_specialfund['FISCAL YEAR'] == 2017]\n",
        "specialfund2018 = revenue_specialfund.loc[revenue_specialfund['FISCAL YEAR'] == 2018]\n",
        "specialfund2019 = revenue_specialfund.loc[revenue_specialfund['FISCAL YEAR'] == 2019]"
      ],
      "execution_count": 0,
      "outputs": []
    },
    {
      "cell_type": "code",
      "metadata": {
        "id": "zqY_CVjjHZr1",
        "colab_type": "code",
        "colab": {}
      },
      "source": [
        "specialsum2015 = specialfund2015['SPECIAL FUND'].sum()\n",
        "specialsum2016 = specialfund2016['SPECIAL FUND'].sum()\n",
        "specialsum2017 = specialfund2017['SPECIAL FUND'].sum()\n",
        "specialsum2018 = specialfund2018['SPECIAL FUND'].sum()\n",
        "specialsum2019 = specialfund2019['SPECIAL FUND'].sum()"
      ],
      "execution_count": 0,
      "outputs": []
    },
    {
      "cell_type": "code",
      "metadata": {
        "id": "QLuQczMGHnoc",
        "colab_type": "code",
        "colab": {}
      },
      "source": [
        "specialsumtotal = [specialsum2015, specialsum2016, specialsum2017, specialsum2018, specialsum2019]"
      ],
      "execution_count": 0,
      "outputs": []
    },
    {
      "cell_type": "code",
      "metadata": {
        "id": "1Ld0UBwaHwDZ",
        "colab_type": "code",
        "colab": {
          "base_uri": "https://localhost:8080/",
          "height": 103
        },
        "outputId": "8e73e790-55c8-4d27-d1ee-b11435ac610d"
      },
      "source": [
        "specialsumtotal"
      ],
      "execution_count": 101,
      "outputs": [
        {
          "output_type": "execute_result",
          "data": {
            "text/plain": [
              "[3748543683.2799997,\n",
              " 4079956479.36,\n",
              " 4111096439.1000004,\n",
              " 4004232244.33,\n",
              " 4294896835.6499996]"
            ]
          },
          "metadata": {
            "tags": []
          },
          "execution_count": 101
        }
      ]
    },
    {
      "cell_type": "code",
      "metadata": {
        "id": "FbiElgt8HvRC",
        "colab_type": "code",
        "colab": {}
      },
      "source": [
        "combined_totals_special =[[3748543683.2799997, 2015], [4079956479.36, 2016], [4111096439.1000004, 2017], [4004232244.33, 2018], [4294896835.6499996, 2019]]"
      ],
      "execution_count": 0,
      "outputs": []
    },
    {
      "cell_type": "code",
      "metadata": {
        "id": "xztkh0wlIOr0",
        "colab_type": "code",
        "colab": {
          "base_uri": "https://localhost:8080/",
          "height": 202
        },
        "outputId": "815ebbde-a270-470e-f45f-546e48d56002"
      },
      "source": [
        "combined_totals_special = pd.DataFrame(combined_totals_special, columns = ['Revenue', 'Year'])\n",
        "combined_totals_special"
      ],
      "execution_count": 103,
      "outputs": [
        {
          "output_type": "execute_result",
          "data": {
            "text/html": [
              "<div>\n",
              "<style scoped>\n",
              "    .dataframe tbody tr th:only-of-type {\n",
              "        vertical-align: middle;\n",
              "    }\n",
              "\n",
              "    .dataframe tbody tr th {\n",
              "        vertical-align: top;\n",
              "    }\n",
              "\n",
              "    .dataframe thead th {\n",
              "        text-align: right;\n",
              "    }\n",
              "</style>\n",
              "<table border=\"1\" class=\"dataframe\">\n",
              "  <thead>\n",
              "    <tr style=\"text-align: right;\">\n",
              "      <th></th>\n",
              "      <th>Revenue</th>\n",
              "      <th>Year</th>\n",
              "    </tr>\n",
              "  </thead>\n",
              "  <tbody>\n",
              "    <tr>\n",
              "      <th>0</th>\n",
              "      <td>3.748544e+09</td>\n",
              "      <td>2015</td>\n",
              "    </tr>\n",
              "    <tr>\n",
              "      <th>1</th>\n",
              "      <td>4.079956e+09</td>\n",
              "      <td>2016</td>\n",
              "    </tr>\n",
              "    <tr>\n",
              "      <th>2</th>\n",
              "      <td>4.111096e+09</td>\n",
              "      <td>2017</td>\n",
              "    </tr>\n",
              "    <tr>\n",
              "      <th>3</th>\n",
              "      <td>4.004232e+09</td>\n",
              "      <td>2018</td>\n",
              "    </tr>\n",
              "    <tr>\n",
              "      <th>4</th>\n",
              "      <td>4.294897e+09</td>\n",
              "      <td>2019</td>\n",
              "    </tr>\n",
              "  </tbody>\n",
              "</table>\n",
              "</div>"
            ],
            "text/plain": [
              "        Revenue  Year\n",
              "0  3.748544e+09  2015\n",
              "1  4.079956e+09  2016\n",
              "2  4.111096e+09  2017\n",
              "3  4.004232e+09  2018\n",
              "4  4.294897e+09  2019"
            ]
          },
          "metadata": {
            "tags": []
          },
          "execution_count": 103
        }
      ]
    },
    {
      "cell_type": "markdown",
      "metadata": {
        "id": "ZCF72BSTJXjy",
        "colab_type": "text"
      },
      "source": [
        "# Total Revenue\n"
      ]
    },
    {
      "cell_type": "code",
      "metadata": {
        "id": "4G4PphCpJbGm",
        "colab_type": "code",
        "colab": {}
      },
      "source": [
        "total2015 = "
      ],
      "execution_count": 0,
      "outputs": []
    },
    {
      "cell_type": "markdown",
      "metadata": {
        "id": "nvYbejcsDqfM",
        "colab_type": "text"
      },
      "source": [
        "# Plotting the Comparison"
      ]
    },
    {
      "cell_type": "code",
      "metadata": {
        "id": "ZJWWyZDdAsCC",
        "colab_type": "code",
        "colab": {
          "base_uri": "https://localhost:8080/",
          "height": 658
        },
        "outputId": "040d7ef3-63a3-4e93-ea19-6a373a00851b"
      },
      "source": [
        "plt.figure(figsize = (10,10))\n",
        "\n",
        "year_federal = combined_totals_federal['Year']\n",
        "revenue_federal = combined_totals_federal['Revenue']\n",
        "plt.plot(year_federal, revenue_federal, 'o', c = 'blue', ms = 10, label = 'Federal Revenue')\n",
        "\n",
        "year_capital = combined_totals_capital['Year']\n",
        "revenue_capital = combined_totals_capital['Revenue']\n",
        "plt.plot(year_capital, revenue_general, '.', c = 'red', ms = 10, label = 'Capital Revenue')\n",
        "\n",
        "year_special = combined_totals_special['Year']\n",
        "revenue_special = combined_totals_special['Revenue']\n",
        "plt.plot(year_special, revenue_special, 's', c = 'orange', ms = 10, label = 'Special Revenue')\n",
        "\n",
        "\n",
        "plt.xticks(fontsize = 15)\n",
        "plt.yticks(fontsize = 20)\n",
        "plt.legend(fontsize = 'x-large')\n",
        "\n",
        "plt.xlabel('Fiscal Year', fontsize = 20)\n",
        "plt.ylabel('Revenue (e^9) (US Dollars)', fontsize = 20)\n",
        "plt.title('Total Revenue In Delaware Between 2015 and 2019', fontsize = 20, loc = 'center')"
      ],
      "execution_count": 141,
      "outputs": [
        {
          "output_type": "execute_result",
          "data": {
            "text/plain": [
              "Text(0.5, 1.0, 'Total Revenue In Delaware Between 2015 and 2019')"
            ]
          },
          "metadata": {
            "tags": []
          },
          "execution_count": 141
        },
        {
          "output_type": "display_data",
          "data": {
            "image/png": "[encoded data removed]",
            "text/plain": [
              "<Figure size 720x720 with 1 Axes>"
            ]
          },
          "metadata": {
            "tags": []
          }
        }
      ]
    },
    {
      "cell_type": "code",
      "metadata": {
        "id": "dg8Ud4w1-KTN",
        "colab_type": "code",
        "colab": {}
      },
      "source": [
        ""
      ],
      "execution_count": 0,
      "outputs": []
    }
  ]
}